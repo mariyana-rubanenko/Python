{
 "cells": [
  {
   "cell_type": "code",
   "execution_count": 1,
   "metadata": {
    "collapsed": true
   },
   "outputs": [],
   "source": [
    "import numpy as np\n",
    "import matplotlib.pyplot as plt\n",
    "import numpy.random as rnd\n",
    "%matplotlib inline"
   ]
  },
  {
   "cell_type": "markdown",
   "metadata": {},
   "source": [
    "# Задание №1"
   ]
  },
  {
   "cell_type": "code",
   "execution_count": 2,
   "metadata": {},
   "outputs": [],
   "source": [
    "mu = 0.0\n",
    "sigma = 2.0\n",
    "data_first = mu + sigma * rnd.standard_normal(1000)\n",
    "data_second = rnd.uniform(-0.5, 0.5, 1000)"
   ]
  },
  {
   "cell_type": "code",
   "execution_count": 3,
   "metadata": {
    "collapsed": true
   },
   "outputs": [],
   "source": [
    "data_result = map(lambda x, y: x + y, data_first, data_second)"
   ]
  },
  {
   "cell_type": "code",
   "execution_count": 4,
   "metadata": {
    "scrolled": true
   },
   "outputs": [
    {
     "data": {
      "text/plain": [
       "<matplotlib.text.Text at 0x741b8d0>"
      ]
     },
     "execution_count": 4,
     "metadata": {},
     "output_type": "execute_result"
    },
    {
     "data": {
      "image/png": "[encoded data removed]",
      "text/plain": [
       "<matplotlib.figure.Figure at 0x7332b90>"
      ]
     },
     "metadata": {},
     "output_type": "display_data"
    }
   ],
   "source": [
    "a = plt.hist(data_result, bins = 50)\n",
    "plt.xlabel('bins')\n",
    "plt.ylabel('number of data points')"
   ]
  },
  {
   "cell_type": "markdown",
   "metadata": {},
   "source": [
    "# Задание №2"
   ]
  },
  {
   "cell_type": "markdown",
   "metadata": {},
   "source": [
    "## Пример декоратора функции"
   ]
  },
  {
   "cell_type": "markdown",
   "metadata": {},
   "source": [
    "### Декоратор выводящий время, которое заняло выполнение декорируемой функции\n"
   ]
  },
  {
   "cell_type": "markdown",
   "metadata": {},
   "source": [
    "\\*args - неопределенное количество позиционных аргументов,  \n",
    "\\**kwargs - неопределенное количество именованных аргументов.\n",
    "  \n",
    "Эти конструкции служат для передачи в функцию неопределенное количество аргументов"
   ]
  },
  {
   "cell_type": "code",
   "execution_count": 5,
   "metadata": {},
   "outputs": [],
   "source": [
    "import time\n",
    "def simple_timer(func):\n",
    "    def wrapper(*args, **kwargs):\n",
    "        t = time.time()\n",
    "        res = func(*args, **kwargs)\n",
    "        print \"Время выполнения функции {0}: {1}\".format(func.__name__, (time.time()-t))\n",
    "\n",
    "    return wrapper"
   ]
  },
  {
   "cell_type": "code",
   "execution_count": 6,
   "metadata": {},
   "outputs": [
    {
     "name": "stdout",
     "output_type": "stream",
     "text": [
      "Время выполнения функции deg: 0.233999967575\n"
     ]
    }
   ],
   "source": [
    "@simple_timer\n",
    "def deg(x):\n",
    "    return x ** 190000\n",
    "\n",
    "deg(100)"
   ]
  },
  {
   "cell_type": "code",
   "execution_count": 7,
   "metadata": {},
   "outputs": [],
   "source": [
    "def timer_benchmark(func):\n",
    "    def wrapper(*args, **kwargs):\n",
    "        t = time.time()\n",
    "        res = func(*args, **kwargs)\n",
    "        \n",
    "        #Вывод названия функции, времени выполнения, \n",
    "        #значения аргументов, названия именованных аргументов, \n",
    "        #результата выполнения\n",
    "        print \"Время выполнения функции {0}: {1}\".format(func.__name__, (time.time()-t))\n",
    "        print args, kwargs\n",
    "        return res\n",
    "\n",
    "    return wrapper"
   ]
  },
  {
   "cell_type": "code",
   "execution_count": 8,
   "metadata": {},
   "outputs": [
    {
     "name": "stdout",
     "output_type": "stream",
     "text": [
      "Время выполнения функции reverse_string: 0.0\n",
      "('one two three four five',) {}\n",
      "evif ruof eerht owt eno\n",
      "Время выполнения функции strange_summ: 0.0\n",
      "(20, 10, 30) {'arg_two': 25, 'arg_three': 35, 'arg_one': 15}\n",
      "135\n"
     ]
    }
   ],
   "source": [
    "@timer_benchmark\n",
    "def reverse_string(string):\n",
    "    return ''.join(reversed(string))\n",
    "\n",
    "@timer_benchmark\n",
    "def strange_summ(*args, **kwargs):\n",
    "    res = 0\n",
    "    for num in args:\n",
    "        res += num\n",
    "    for key in kwargs:\n",
    "        res += kwargs[key]\n",
    "    return res\n",
    "\n",
    "print reverse_string(\"one two three four five\")\n",
    "list_of_numbers = [20,10,30]\n",
    "dict_of_arguments = {\"arg_one\":15, \"arg_two\":25, \"arg_three\":35}\n",
    "print strange_summ(*list_of_numbers,**dict_of_arguments)"
   ]
  },
  {
   "cell_type": "markdown",
   "metadata": {},
   "source": [
    "### Декоратор, логирующий работу кода"
   ]
  },
  {
   "cell_type": "code",
   "execution_count": 9,
   "metadata": {
    "collapsed": true
   },
   "outputs": [],
   "source": [
    "def logging(func):\n",
    "    def wrapper(*args, **kwargs):\n",
    "        res = func(*args, **kwargs)\n",
    "        print (func.__name__, args, kwargs)\n",
    "        return res\n",
    "    return wrapper\n"
   ]
  },
  {
   "cell_type": "code",
   "execution_count": 10,
   "metadata": {},
   "outputs": [
    {
     "name": "stdout",
     "output_type": "stream",
     "text": [
      "('reverse_string', ('one two three four five',), {})\n",
      "evif ruof eerht owt eno\n",
      "('another_strange_summ', (0, 0, 10), {})\n",
      "('another_strange_summ', (20, 10, 30), {'arg_two': 25, 'arg_three': 35, 'arg_one': 15})\n",
      "10\n"
     ]
    }
   ],
   "source": [
    "@logging\n",
    "def reverse_string(string):\n",
    "    return ''.join(reversed(string))\n",
    "\n",
    "@logging\n",
    "def another_strange_summ(*args, **kwargs):\n",
    "    res = 0\n",
    "    for num in args:\n",
    "        res += num\n",
    "    for key in kwargs:\n",
    "        res += kwargs[key]\n",
    "    if res > 100:\n",
    "        return another_strange_summ(*[0, 0, 10])\n",
    "    return res\n",
    "\n",
    "print reverse_string(\"one two three four five\")\n",
    "list_of_numbers = [20, 10, 30]\n",
    "dict_of_arguments = {\"arg_one\":15, \"arg_two\":25, \"arg_three\":35}\n",
    "print another_strange_summ(*list_of_numbers,**dict_of_arguments)"
   ]
  },
  {
   "cell_type": "markdown",
   "metadata": {},
   "source": [
    "### Декоратор, считающий и выводящий количество вызовов декорируемой функции"
   ]
  },
  {
   "cell_type": "code",
   "execution_count": 11,
   "metadata": {
    "collapsed": true
   },
   "outputs": [],
   "source": [
    "def counter(func):\n",
    "    def wrapper(*args, **kwargs):\n",
    "        wrapper.count += 1\n",
    "        res = func(*args, **kwargs)\n",
    "        print(\"{0} была вызвана : {1}х\".format(func.__name__, wrapper.count))\n",
    "        return res\n",
    "    wrapper.count = 0\n",
    "    return wrapper\n",
    "    "
   ]
  },
  {
   "cell_type": "code",
   "execution_count": 12,
   "metadata": {},
   "outputs": [
    {
     "name": "stdout",
     "output_type": "stream",
     "text": [
      "reverse_string была вызвана : 1х\n",
      "evif ruof eerht owt eno\n",
      "another_strange_summ была вызвана : 2х\n",
      "another_strange_summ была вызвана : 2х\n",
      "10\n"
     ]
    }
   ],
   "source": [
    "@counter\n",
    "def reverse_string(string):\n",
    "    return ''.join(reversed(string))\n",
    "\n",
    "@counter\n",
    "def another_strange_summ(*args, **kwargs):\n",
    "    res = 0\n",
    "    for num in args:\n",
    "        res += num\n",
    "    for key in kwargs:\n",
    "        res += kwargs[key]\n",
    "    if res > 100:\n",
    "        return another_strange_summ(*[0, 0, 10])\n",
    "    return res\n",
    "\n",
    "print reverse_string(\"one two three four five\")\n",
    "list_of_numbers = [20, 10, 30]\n",
    "dict_of_arguments = {\"arg_one\":15, \"arg_two\":25, \"arg_three\":35}\n",
    "print another_strange_summ(*list_of_numbers,**dict_of_arguments)"
   ]
  },
  {
   "cell_type": "markdown",
   "metadata": {},
   "source": [
    "### Декоратор кэширующий"
   ]
  },
  {
   "cell_type": "code",
   "execution_count": 13,
   "metadata": {
    "collapsed": true
   },
   "outputs": [],
   "source": [
    "def memoized(func):\n",
    "    memory = {}\n",
    "\n",
    "    def wrapper(*args, **kwargs):\n",
    "        key = (tuple(args), hash(tuple(sorted(kwargs.items()))))\n",
    "        if not key in memory:\n",
    "            memory[key] = func(*args, **kwargs)\n",
    "        return memory[key]\n",
    "    return wrapper"
   ]
  },
  {
   "cell_type": "code",
   "execution_count": 14,
   "metadata": {
    "collapsed": true
   },
   "outputs": [],
   "source": [
    "@memoized\n",
    "def factorial (n):\n",
    "    print \"factorial (%d)\" % n\n",
    "    if n is 0:\n",
    "        return 1\n",
    "    else:\n",
    "        return factorial(n - 1) * n"
   ]
  },
  {
   "cell_type": "code",
   "execution_count": 15,
   "metadata": {},
   "outputs": [
    {
     "name": "stdout",
     "output_type": "stream",
     "text": [
      "factorial (3)\n",
      "factorial (2)\n",
      "factorial (1)\n",
      "factorial (0)\n"
     ]
    },
    {
     "data": {
      "text/plain": [
       "6"
      ]
     },
     "execution_count": 15,
     "metadata": {},
     "output_type": "execute_result"
    }
   ],
   "source": [
    "factorial(3)"
   ]
  },
  {
   "cell_type": "markdown",
   "metadata": {},
   "source": [
    "## Пример класса"
   ]
  },
  {
   "cell_type": "code",
   "execution_count": 16,
   "metadata": {},
   "outputs": [
    {
     "name": "stdout",
     "output_type": "stream",
     "text": [
      "('Person name is', 'Mary')\n"
     ]
    }
   ],
   "source": [
    "class Person:\n",
    " \n",
    "    # конструктор\n",
    "    def __init__(self, name):\n",
    "        self.name = name\n",
    " \n",
    "    def display_info(self):\n",
    "        print(\"Person name is\", self.name)\n",
    "\n",
    "\n",
    "person= Person(\"Mary\")\n",
    "person.display_info() "
   ]
  },
  {
   "cell_type": "markdown",
   "metadata": {},
   "source": [
    "## Пример декоратора метода"
   ]
  },
  {
   "cell_type": "code",
   "execution_count": 17,
   "metadata": {},
   "outputs": [
    {
     "name": "stdout",
     "output_type": "stream",
     "text": [
      "('Person name is', 'Mary', 100)\n",
      "22\n"
     ]
    }
   ],
   "source": [
    "def transformer_decorator(func):\n",
    "    def wrapper(self, change):\n",
    "        return func(self, change)\n",
    "    return wrapper\n",
    "\n",
    "class Person:\n",
    " \n",
    "    # конструктор\n",
    "    def __init__(self, name, age):\n",
    "        self.name = name\n",
    "        self.age = age\n",
    " \n",
    "    def display_info(self):\n",
    "        print(\"Person name is\", self.name, self.age)\n",
    "    @transformer_decorator  \n",
    "    def transform_age(self, change):\n",
    "        print self.age + change\n",
    "\n",
    "\n",
    "person = Person(\"Mary\", 100)\n",
    "person.display_info() \n",
    "person.transform_age(-78)"
   ]
  },
  {
   "cell_type": "code",
   "execution_count": null,
   "metadata": {
    "collapsed": true
   },
   "outputs": [],
   "source": []
  }
 ],
 "metadata": {
  "kernelspec": {
   "display_name": "Python 2",
   "language": "python",
   "name": "python2"
  },
  "language_info": {
   "codemirror_mode": {
    "name": "ipython",
    "version": 2
   },
   "file_extension": ".py",
   "mimetype": "text/x-python",
   "name": "python",
   "nbconvert_exporter": "python",
   "pygments_lexer": "ipython2",
   "version": "2.7.13"
  }
 },
 "nbformat": 4,
 "nbformat_minor": 2
}
